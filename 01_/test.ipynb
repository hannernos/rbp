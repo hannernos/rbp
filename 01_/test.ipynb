{
 "cells": [
  {
   "cell_type": "code",
   "execution_count": null,
   "metadata": {
    "collapsed": true,
    "ExecuteTime": {
     "start_time": "2023-04-13T12:16:48.478899Z",
     "end_time": "2023-04-13T12:16:48.499892Z"
    }
   },
   "outputs": [],
   "source": [
    "#기본 포멧\n",
    "import sys\n",
    "T=int(input())\n",
    "for test_case in range(1, T + 1):"
   ]
  },
  {
   "cell_type": "code",
   "execution_count": 2,
   "outputs": [
    {
     "name": "stdout",
     "output_type": "stream",
     "text": [
      "32sdfsdf\n"
     ]
    }
   ],
   "source": [
    "a=32\n",
    "print(str(a)+\"sdfsdf\")\n"
   ],
   "metadata": {
    "collapsed": false,
    "ExecuteTime": {
     "start_time": "2023-04-13T14:39:56.113365Z",
     "end_time": "2023-04-13T14:39:56.178256Z"
    }
   }
  },
  {
   "cell_type": "code",
   "execution_count": 3,
   "outputs": [],
   "source": [
    "import sys"
   ],
   "metadata": {
    "collapsed": false,
    "ExecuteTime": {
     "start_time": "2023-04-13T14:40:04.085420Z",
     "end_time": "2023-04-13T14:40:04.110866Z"
    }
   }
  },
  {
   "cell_type": "code",
   "execution_count": 10,
   "outputs": [],
   "source": [
    "a_list = list(map(int, input().split()))\n",
    "b_list = sorted(a_list, reverse=True)"
   ],
   "metadata": {
    "collapsed": false,
    "ExecuteTime": {
     "start_time": "2023-04-13T14:41:21.626062Z",
     "end_time": "2023-04-13T14:41:25.641419Z"
    }
   }
  },
  {
   "cell_type": "code",
   "execution_count": 11,
   "outputs": [
    {
     "data": {
      "text/plain": "[10, 7, 6]"
     },
     "execution_count": 11,
     "metadata": {},
     "output_type": "execute_result"
    }
   ],
   "source": [
    "a_list"
   ],
   "metadata": {
    "collapsed": false,
    "ExecuteTime": {
     "start_time": "2023-04-13T14:41:28.013859Z",
     "end_time": "2023-04-13T14:41:28.027881Z"
    }
   }
  },
  {
   "cell_type": "code",
   "execution_count": 12,
   "outputs": [
    {
     "data": {
      "text/plain": "[10, 7, 6]"
     },
     "execution_count": 12,
     "metadata": {},
     "output_type": "execute_result"
    }
   ],
   "source": [
    "b_list"
   ],
   "metadata": {
    "collapsed": false,
    "ExecuteTime": {
     "start_time": "2023-04-13T14:41:34.648824Z",
     "end_time": "2023-04-13T14:41:34.661825Z"
    }
   }
  },
  {
   "cell_type": "code",
   "execution_count": 13,
   "outputs": [
    {
     "data": {
      "text/plain": "10"
     },
     "execution_count": 13,
     "metadata": {},
     "output_type": "execute_result"
    }
   ],
   "source": [
    "b_list[0]"
   ],
   "metadata": {
    "collapsed": false,
    "ExecuteTime": {
     "start_time": "2023-04-13T14:42:39.492583Z",
     "end_time": "2023-04-13T14:42:39.505579Z"
    }
   }
  },
  {
   "cell_type": "code",
   "execution_count": 14,
   "outputs": [
    {
     "data": {
      "text/plain": "7"
     },
     "execution_count": 14,
     "metadata": {},
     "output_type": "execute_result"
    }
   ],
   "source": [
    "b_list[1]"
   ],
   "metadata": {
    "collapsed": false,
    "ExecuteTime": {
     "start_time": "2023-04-13T14:42:44.140708Z",
     "end_time": "2023-04-13T14:42:44.204699Z"
    }
   }
  },
  {
   "cell_type": "code",
   "execution_count": 15,
   "outputs": [
    {
     "ename": "ValueError",
     "evalue": "invalid literal for int() with base 10: '3 3 10 7 6 3 3 5 9 5 1 1 3 1 2'",
     "output_type": "error",
     "traceback": [
      "\u001B[1;31m---------------------------------------------------------------------------\u001B[0m",
      "\u001B[1;31mValueError\u001B[0m                                Traceback (most recent call last)",
      "Cell \u001B[1;32mIn[15], line 4\u001B[0m\n\u001B[0;32m      1\u001B[0m \u001B[38;5;66;03m#import sys\u001B[39;00m\n\u001B[0;32m      2\u001B[0m \u001B[38;5;66;03m# sys.stdin = open(\"input.txt\", \"r\")\u001B[39;00m\n\u001B[1;32m----> 4\u001B[0m T \u001B[38;5;241m=\u001B[39m \u001B[38;5;28;43mint\u001B[39;49m\u001B[43m(\u001B[49m\u001B[38;5;28;43minput\u001B[39;49m\u001B[43m(\u001B[49m\u001B[43m)\u001B[49m\u001B[43m)\u001B[49m\n\u001B[0;32m      5\u001B[0m \u001B[38;5;66;03m# 여러개의 테스트 케이스가 주어지므로, 각각을 처리합니다.\u001B[39;00m\n\u001B[0;32m      6\u001B[0m \u001B[38;5;28;01mfor\u001B[39;00m test_case \u001B[38;5;129;01min\u001B[39;00m \u001B[38;5;28mrange\u001B[39m(\u001B[38;5;241m1\u001B[39m, T \u001B[38;5;241m+\u001B[39m \u001B[38;5;241m1\u001B[39m):\n",
      "\u001B[1;31mValueError\u001B[0m: invalid literal for int() with base 10: '3 3 10 7 6 3 3 5 9 5 1 1 3 1 2'"
     ]
    }
   ],
   "source": [
    "#import sys\n",
    "# sys.stdin = open(\"input.txt\", \"r\")\n",
    "\n",
    "T = int(input())\n",
    "# 여러개의 테스트 케이스가 주어지므로, 각각을 처리합니다.\n",
    "for test_case in range(1, T + 1):\n",
    "    N = int(input())\n",
    "    a_list = []\n",
    "    b_list = []\n",
    "    #for ii in range(1, N + 1):\n",
    "    a_list = list(map(int, input().split()))\n",
    "    b_list = sorted(a_list, reverse=True)\n",
    "    idx_b = 0\n",
    "    f_sum = 0\n",
    "    d_sum = 0\n",
    "    for idx_a, tem_a in enumerate (a_list):\n",
    "\n",
    "        if tem_a == b_list[idx_b]:\n",
    "            d_sum += f_sum\n",
    "            f_sum = 0\n",
    "            idx_b += 1\n",
    "        else:\n",
    "            f_sum += (b_list[idx_b]-tem_a)\n",
    "    # 각 날의 매매가를 나타내는 N개의 자연수\n",
    "    # 최대 이익을 출력하라\n",
    "    print(\"#\"+str(test_case)+\" \"+str(d_sum))"
   ],
   "metadata": {
    "collapsed": false
   }
  },
  {
   "cell_type": "code",
   "execution_count": null,
   "outputs": [],
   "source": [],
   "metadata": {
    "collapsed": false
   }
  }
 ],
 "metadata": {
  "kernelspec": {
   "display_name": "Python 3",
   "language": "python",
   "name": "python3"
  },
  "language_info": {
   "codemirror_mode": {
    "name": "ipython",
    "version": 2
   },
   "file_extension": ".py",
   "mimetype": "text/x-python",
   "name": "python",
   "nbconvert_exporter": "python",
   "pygments_lexer": "ipython2",
   "version": "2.7.6"
  }
 },
 "nbformat": 4,
 "nbformat_minor": 0
}
